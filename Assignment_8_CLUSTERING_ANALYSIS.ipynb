{
  "nbformat": 4,
  "nbformat_minor": 0,
  "metadata": {
    "colab": {
      "provenance": [],
      "include_colab_link": true
    },
    "kernelspec": {
      "name": "python3",
      "display_name": "Python 3"
    },
    "language_info": {
      "name": "python"
    }
  },
  "cells": [
    {
      "cell_type": "markdown",
      "metadata": {
        "id": "view-in-github",
        "colab_type": "text"
      },
      "source": [
        "<a href=\"https://colab.research.google.com/github/sathasivamn/CLUSTERING-ANALYSIS/blob/main/Assignment_8_CLUSTERING_ANALYSIS.ipynb\" target=\"_parent\"><img src=\"https://colab.research.google.com/assets/colab-badge.svg\" alt=\"Open In Colab\"/></a>"
      ]
    },
    {
      "cell_type": "markdown",
      "source": [
        "# CLUSTERING ANALYSIS\n",
        "\n",
        "## Steps:\n",
        "### 1. Data Preprocessing\n",
        "### 2. Exploratory Data Analysis (EDA)\n",
        "### 3. Implementing Clustering Algorithms\n",
        "### 4. Cluster Analysis and Visualization\n",
        "### 5. Evaluation and Performance Metrics"
      ],
      "metadata": {
        "id": "IpOQqfd7bb7y"
      }
    },
    {
      "cell_type": "markdown",
      "source": [
        "## 1. Data Preprocessing\n",
        "\n",
        "### a. Handle missing values.\n",
        "### b. Remove outliers using IQR.\n",
        "### c. Scale the features."
      ],
      "metadata": {
        "id": "B0jhothAbkmo"
      }
    },
    {
      "cell_type": "code",
      "source": [
        "# Import necessary libraries\n",
        "import pandas as pd\n",
        "import numpy as np\n",
        "import matplotlib.pyplot as plt\n",
        "import seaborn as sns\n",
        "from sklearn.preprocessing import StandardScaler\n",
        "from sklearn.cluster import KMeans, DBSCAN\n",
        "from sklearn.metrics import silhouette_score\n",
        "from scipy.cluster.hierarchy import dendrogram, linkage, fcluster"
      ],
      "metadata": {
        "id": "as7yv_BdKupo"
      },
      "execution_count": 34,
      "outputs": []
    },
    {
      "cell_type": "code",
      "source": [
        "# Load the dataset\n",
        "df = pd.read_excel(\"EastWestAirlines.xlsx\")"
      ],
      "metadata": {
        "id": "JuZsvoUeKzv4"
      },
      "execution_count": 35,
      "outputs": []
    },
    {
      "cell_type": "code",
      "source": [
        "# Display dataset info and check for missing values\n",
        "print(df.info())\n",
        "print(\"\\nMissing Values:\\n\", df.isnull().sum())"
      ],
      "metadata": {
        "colab": {
          "base_uri": "https://localhost:8080/"
        },
        "id": "INgVWnWMK1Ro",
        "outputId": "c79d68fd-c895-4498-db4c-d381e0a008ad"
      },
      "execution_count": 36,
      "outputs": [
        {
          "output_type": "stream",
          "name": "stdout",
          "text": [
            "<class 'pandas.core.frame.DataFrame'>\n",
            "RangeIndex: 26 entries, 0 to 25\n",
            "Data columns (total 5 columns):\n",
            " #   Column                                                                                 Non-Null Count  Dtype \n",
            "---  ------                                                                                 --------------  ----- \n",
            " 0   East-West Airlines is trying to learn more about its customers.  Key issues are their  18 non-null     object\n",
            " 1   Unnamed: 1                                                                             13 non-null     object\n",
            " 2   Unnamed: 2                                                                             6 non-null      object\n",
            " 3   Unnamed: 3                                                                             13 non-null     object\n",
            " 4   Unnamed: 4                                                                             18 non-null     object\n",
            "dtypes: object(5)\n",
            "memory usage: 1.1+ KB\n",
            "None\n",
            "\n",
            "Missing Values:\n",
            " East-West Airlines is trying to learn more about its customers.  Key issues are their     8\n",
            "Unnamed: 1                                                                               13\n",
            "Unnamed: 2                                                                               20\n",
            "Unnamed: 3                                                                               13\n",
            "Unnamed: 4                                                                                8\n",
            "dtype: int64\n"
          ]
        }
      ]
    },
    {
      "cell_type": "code",
      "source": [
        "# Drop irrelevant columns (e.g., ID column if present)\n",
        "df.drop(columns=[\"ID\"], inplace=True, errors=\"ignore\")"
      ],
      "metadata": {
        "id": "REtS1saeK6gZ"
      },
      "execution_count": 37,
      "outputs": []
    },
    {
      "cell_type": "code",
      "source": [
        "# Handle missing values by filling with median for numeric columns only\n",
        "for column in df.select_dtypes(include=np.number).columns:\n",
        "    df[column].fillna(df[column].median(), inplace=True)"
      ],
      "metadata": {
        "id": "idi9Ah4gK901"
      },
      "execution_count": 38,
      "outputs": []
    },
    {
      "cell_type": "code",
      "source": [
        "def remove_outliers(df):\n",
        "    # Select only numeric columns for outlier removal\n",
        "    numeric_df = df.select_dtypes(include=np.number)\n",
        "\n",
        "    if numeric_df.empty:  # Check if numeric_df is empty\n",
        "        print(\"No numeric columns found for outlier removal.\")\n",
        "        return df  # Return original DataFrame if no numeric columns\n",
        "\n",
        "    Q1 = numeric_df.quantile(0.25)\n",
        "    Q3 = numeric_df.quantile(0.75)\n",
        "    IQR = Q3 - Q1\n",
        "\n",
        "    # Apply outlier removal logic to numeric columns only\n",
        "    # Instead of removing rows, cap the outliers to the upper and lower bounds\n",
        "    # Create a copy of the DataFrame\n",
        "    df_out = df.copy()\n",
        "\n",
        "    # Apply outlier treatment only to numeric columns in df_out\n",
        "    for column in numeric_df.columns:\n",
        "        lower_bound = Q1[column] - 1.5 * IQR[column]\n",
        "        upper_bound = Q3[column] + 1.5 * IQR[column]\n",
        "        df_out[column] = np.clip(df_out[column], lower_bound, upper_bound)\n",
        "\n",
        "    return df_out"
      ],
      "metadata": {
        "id": "2KIf7Y9EK_8v"
      },
      "execution_count": 39,
      "outputs": []
    },
    {
      "cell_type": "code",
      "source": [
        "# Remove outliers from the dataset\n",
        "df = remove_outliers(df)"
      ],
      "metadata": {
        "id": "mnJHdyNhLDIw",
        "colab": {
          "base_uri": "https://localhost:8080/"
        },
        "outputId": "89c247ef-6b9f-4346-976d-686ea750a8fd"
      },
      "execution_count": 40,
      "outputs": [
        {
          "output_type": "stream",
          "name": "stdout",
          "text": [
            "No numeric columns found for outlier removal.\n"
          ]
        }
      ]
    },
    {
      "cell_type": "code",
      "source": [
        "# Check numeric columns after outlier removal and DataFrame shape\n",
        "numeric_df = df.select_dtypes(include=np.number)\n",
        "print(\"Numeric columns after outlier removal:\", numeric_df.columns)\n",
        "print(\"Number of rows in numeric_df:\", numeric_df.shape[0])  # Check number of rows\n",
        "print(\"Number of columns in numeric_df:\", numeric_df.shape[1])  # Check number of columns\n",
        "print(\"Data types in df:\\n\", df.dtypes)  # Check data types in the DataFrame\n",
        "\n",
        "# Scaling the features for clustering\n",
        "# Initialize df_scaled to None to ensure it's defined before the if statement.\n",
        "df_scaled = None  # Initialize df_scaled here\n",
        "if not numeric_df.empty:  # Proceed only if numeric_df is not empty\n",
        "    scaler = StandardScaler()\n",
        "    df_scaled = scaler.fit_transform(numeric_df)\n",
        "else:\n",
        "    print(\"Warning: No numeric data available for scaling after outlier removal.\")"
      ],
      "metadata": {
        "colab": {
          "base_uri": "https://localhost:8080/"
        },
        "id": "XKwZC5ZRLGBQ",
        "outputId": "685ccce8-8b4e-49b7-971a-d61fe786534f"
      },
      "execution_count": 41,
      "outputs": [
        {
          "output_type": "stream",
          "name": "stdout",
          "text": [
            "Numeric columns after outlier removal: Index([], dtype='object')\n",
            "Number of rows in numeric_df: 26\n",
            "Number of columns in numeric_df: 0\n",
            "Data types in df:\n",
            " East-West Airlines is trying to learn more about its customers.  Key issues are their    object\n",
            "Unnamed: 1                                                                               object\n",
            "Unnamed: 2                                                                               object\n",
            "Unnamed: 3                                                                               object\n",
            "Unnamed: 4                                                                               object\n",
            "dtype: object\n",
            "Warning: No numeric data available for scaling after outlier removal.\n"
          ]
        }
      ]
    },
    {
      "cell_type": "markdown",
      "source": [
        "## 2. Exploratory Data Analysis (EDA)\n",
        "\n",
        "### a. Visualize data to identify patterns."
      ],
      "metadata": {
        "id": "w0i2OvAEbnNR"
      }
    },
    {
      "cell_type": "code",
      "source": [
        "# EDA and Visualizations\n",
        "\n",
        "# Select only numeric columns for scaling and plotting\n",
        "# Instead of re-selecting numeric_df, use the one created before scaling:\n",
        "# numeric_df = df.select_dtypes(include=np.number)  # This line is redundant.\n",
        "\n",
        "# If numeric_df is empty, skip the pairplot and heatmap\n",
        "if numeric_df.empty:  # Check if numeric_df is empty\n",
        "    print(\"Numeric DataFrame is empty. Skipping scaling, pairplot, and heatmap.\")\n",
        "else:\n",
        "    # Fit and transform the scaler on the numeric data\n",
        "    df_scaled = scaler.fit_transform(numeric_df)\n",
        "\n",
        "    # Create a DataFrame with correct columns for the pairplot\n",
        "    scaled_df = pd.DataFrame(df_scaled, columns=numeric_df.columns)\n",
        "\n",
        "    # Pairplot to visualize feature relationships\n",
        "    sns.pairplot(scaled_df)\n",
        "    plt.show()\n",
        "\n",
        "    # Correlation heatmap\n",
        "    plt.figure(figsize=(10, 6))\n",
        "    sns.heatmap(pd.DataFrame(df_scaled, columns=numeric_df.columns).corr(), annot=True, cmap=\"coolwarm\")\n",
        "    plt.title(\"Correlation Matrix\")\n",
        "    plt.show()"
      ],
      "metadata": {
        "colab": {
          "base_uri": "https://localhost:8080/"
        },
        "id": "iS8xmlkyLIa-",
        "outputId": "a9f5308c-faef-41cf-baa7-d15dce706f0b"
      },
      "execution_count": 42,
      "outputs": [
        {
          "output_type": "stream",
          "name": "stdout",
          "text": [
            "Numeric DataFrame is empty. Skipping scaling, pairplot, and heatmap.\n"
          ]
        }
      ]
    },
    {
      "cell_type": "markdown",
      "source": [
        "## 3. Implementing Clustering Algorithms\n",
        "### a. Analyze the characteristics of each cluster.\n",
        "### a. Apply K-Means with Elbow method.\n",
        "### b. Apply Hierarchical Clustering with different linkage criteria.\n",
        "### c. Apply DBSCAN with tuned parameters."
      ],
      "metadata": {
        "id": "hhnG_c3jbvuQ"
      }
    },
    {
      "cell_type": "code",
      "source": [
        "# K-Means Clustering\n",
        "\n",
        "# Elbow Method to determine optimal K\n",
        "wcss = []\n",
        "for i in range(1, 11):\n",
        "    kmeans = KMeans(n_clusters=i, random_state=42)\n",
        "    # Check if df_scaled is not empty and has at least one column\n",
        "    # Convert df_scaled to a NumPy array if it's a pandas DataFrame\n",
        "    if df_scaled is not None and df_scaled.shape[1] > 0:\n",
        "        X = df_scaled.to_numpy() if isinstance(df_scaled, pd.DataFrame) else df_scaled\n",
        "        kmeans.fit(X)  # Use the NumPy array for fitting\n",
        "        wcss.append(kmeans.inertia_)\n",
        "    else:\n",
        "        print(\"Warning: df_scaled is empty or has no columns. Skipping KMeans fitting for this iteration.\")\n",
        "        # Instead of skipping, you could append a large value to wcss to indicate an error\n",
        "        # This helps in plotting the elbow curve even if clustering fails for some K values\n",
        "        wcss.append(float('inf'))"
      ],
      "metadata": {
        "colab": {
          "base_uri": "https://localhost:8080/"
        },
        "id": "Nek6Q3kbPspu",
        "outputId": "d46aecab-890d-48d8-d064-f5b3e506a2fd"
      },
      "execution_count": 43,
      "outputs": [
        {
          "output_type": "stream",
          "name": "stdout",
          "text": [
            "Warning: df_scaled is empty or has no columns. Skipping KMeans fitting for this iteration.\n",
            "Warning: df_scaled is empty or has no columns. Skipping KMeans fitting for this iteration.\n",
            "Warning: df_scaled is empty or has no columns. Skipping KMeans fitting for this iteration.\n",
            "Warning: df_scaled is empty or has no columns. Skipping KMeans fitting for this iteration.\n",
            "Warning: df_scaled is empty or has no columns. Skipping KMeans fitting for this iteration.\n",
            "Warning: df_scaled is empty or has no columns. Skipping KMeans fitting for this iteration.\n",
            "Warning: df_scaled is empty or has no columns. Skipping KMeans fitting for this iteration.\n",
            "Warning: df_scaled is empty or has no columns. Skipping KMeans fitting for this iteration.\n",
            "Warning: df_scaled is empty or has no columns. Skipping KMeans fitting for this iteration.\n",
            "Warning: df_scaled is empty or has no columns. Skipping KMeans fitting for this iteration.\n"
          ]
        }
      ]
    },
    {
      "cell_type": "code",
      "source": [
        "# Plot Elbow Curve\n",
        "plt.plot(range(1, 11), wcss, marker=\"o\")\n",
        "plt.title(\"Elbow Curve for Optimal K\")\n",
        "plt.xlabel(\"Number of Clusters (K)\")\n",
        "plt.ylabel(\"WCSS\")\n",
        "plt.show()\n",
        "\n",
        "# Apply K-Means with optimal K (assume K=3 from Elbow)\n",
        "# Check if df_scaled is not empty and has at least one column\n",
        "if df_scaled is not None and df_scaled.shape[1] > 0:\n",
        "    kmeans = KMeans(n_clusters=3, random_state=42)\n",
        "    X = df_scaled.to_numpy() if isinstance(df_scaled, pd.DataFrame) else df_scaled  # Convert to NumPy array if needed\n",
        "    kmeans_labels = kmeans.fit_predict(X)  # Use the NumPy array for fitting\n",
        "\n",
        "    # Ensure df has the 'KMeans_Cluster' column before assigning values\n",
        "    if 'KMeans_Cluster' not in df.columns:\n",
        "        df['KMeans_Cluster'] = 0  # Initialize the column if it doesn't exist\n",
        "\n",
        "    df[\"KMeans_Cluster\"] = kmeans_labels  # Assign cluster labels to the column\n",
        "\n",
        "    # Silhouette score for K-Means\n",
        "    kmeans_silhouette = silhouette_score(X, kmeans_labels)  # Use the NumPy array for silhouette score\n",
        "    print(f\"K-Means Silhouette Score: {kmeans_silhouette:.4f}\")\n",
        "\n",
        "    # Visualize K-Means clusters\n",
        "    plt.scatter(X[:, 0], X[:, 1], c=kmeans_labels, cmap=\"coolwarm\", s=50)  # Use the NumPy array for plotting\n",
        "    plt.title(\"K-Means Clustering\")\n",
        "    plt.xlabel(\"Feature 1\")\n",
        "    plt.ylabel(\"Feature 2\")\n",
        "    plt.show()\n",
        "else:\n",
        "    print(\"Warning: df_scaled is empty or has no columns. Skipping KMeans clustering.\")"
      ],
      "metadata": {
        "colab": {
          "base_uri": "https://localhost:8080/",
          "height": 490
        },
        "id": "yrOoc2VmQUEw",
        "outputId": "cf451ebc-9615-4012-aae3-e68895983f97"
      },
      "execution_count": 44,
      "outputs": [
        {
          "output_type": "display_data",
          "data": {
            "text/plain": [
              "<Figure size 640x480 with 1 Axes>"
            ],
            "image/png": "[encoded data removed]"
          },
          "metadata": {}
        },
        {
          "output_type": "stream",
          "name": "stdout",
          "text": [
            "Warning: df_scaled is empty or has no columns. Skipping KMeans clustering.\n"
          ]
        }
      ]
    },
    {
      "cell_type": "code",
      "source": [
        "# Hierarchical Clustering\n",
        "\n",
        "# Apply hierarchical clustering with Ward linkage\n",
        "# Check if df_scaled is not None and has at least one column\n",
        "if df_scaled is not None and df_scaled.shape[1] > 0:\n",
        "    # Convert df_scaled to a NumPy array if it's a pandas DataFrame\n",
        "    X = df_scaled.to_numpy() if isinstance(df_scaled, pd.DataFrame) else df_scaled\n",
        "    linkage_matrix = linkage(X, method=\"ward\")  # Use X instead of df_scaled\n",
        "    dendrogram(linkage_matrix, truncate_mode=\"level\", p=5)\n",
        "    plt.title(\"Dendrogram (Ward Linkage)\")\n",
        "    plt.xlabel(\"Data Points\")\n",
        "    plt.ylabel(\"Distance\")\n",
        "    plt.show()\n",
        "\n",
        "    # Assign clusters based on distance threshold\n",
        "    hierarchical_labels = fcluster(linkage_matrix, t=3, criterion=\"maxclust\")\n",
        "    df[\"Hierarchical_Cluster\"] = hierarchical_labels\n",
        "else:\n",
        "    print(\"Warning: df_scaled is empty or has no columns. Skipping Hierarchical clustering.\")"
      ],
      "metadata": {
        "colab": {
          "base_uri": "https://localhost:8080/"
        },
        "id": "kQIPExErUmJP",
        "outputId": "1596b468-2df2-4659-b9c6-791e4492bac6"
      },
      "execution_count": 45,
      "outputs": [
        {
          "output_type": "stream",
          "name": "stdout",
          "text": [
            "Warning: df_scaled is empty or has no columns. Skipping Hierarchical clustering.\n"
          ]
        }
      ]
    },
    {
      "cell_type": "code",
      "source": [
        "# DBSCAN Clustering\n",
        "# Apply DBSCAN with optimal parameters\n",
        "\n",
        "# Check if df_scaled is not empty and has at least one column\n",
        "if df_scaled is not None and df_scaled.shape[1] > 0:\n",
        "    dbscan = DBSCAN(eps=1.5, min_samples=5)\n",
        "    dbscan_labels = dbscan.fit_predict(df_scaled)\n",
        "    df[\"DBSCAN_Cluster\"] = dbscan_labels\n",
        "else:\n",
        "    print(\"Warning: df_scaled is empty or has no columns. Skipping DBSCAN clustering.\")\n",
        "    # Initialize dbscan_labels to an empty list or a default value\n",
        "    dbscan_labels = []  # Or dbscan_labels = -1 for example\n",
        "\n",
        "# Silhouette score for DBSCAN (if valid)\n",
        "# Check if dbscan_labels is defined and not empty and df_scaled is not None and has more than one column\n",
        "if dbscan_labels is not None and len(set(dbscan_labels)) > 1 and df_scaled is not None and df_scaled.shape[1] > 0:\n",
        "    dbscan_silhouette = silhouette_score(df_scaled, dbscan_labels)\n",
        "    print(f\"DBSCAN Silhouette Score: {dbscan_silhouette:.4f}\")\n",
        "else:\n",
        "    print(\"DBSCAN produced only one cluster or dbscan_labels is not defined or df_scaled is not suitable for silhouette score, silhouette score not applicable.\")\n",
        "\n",
        "# Visualize DBSCAN clusters\n",
        "# Check if dbscan_labels is defined and df_scaled has data and df_scaled is not None and has more than one column\n",
        "if dbscan_labels is not None and df_scaled is not None and df_scaled.shape[0] > 0 and df_scaled.shape[1] > 1: # Check for at least 2 columns for plotting\n",
        "    plt.scatter(df_scaled[:, 0], df_scaled[:, 1], c=dbscan_labels, cmap=\"coolwarm\", s=50)  # Accessing columns using NumPy array indexing\n",
        "    plt.title(\"DBSCAN Clustering\")\n",
        "    plt.xlabel(\"Feature 1\")\n",
        "    plt.ylabel(\"Feature 2\")\n",
        "    plt.show()\n",
        "else:\n",
        "    print(\"Warning: dbscan_labels is not defined or df_scaled is empty or has less than 2 columns. Skipping DBSCAN cluster visualization.\")"
      ],
      "metadata": {
        "colab": {
          "base_uri": "https://localhost:8080/"
        },
        "id": "XR2KLMcHUyYc",
        "outputId": "d2ebb7b2-bfcb-42d2-9ba2-26ac3d855b5b"
      },
      "execution_count": 46,
      "outputs": [
        {
          "output_type": "stream",
          "name": "stdout",
          "text": [
            "Warning: df_scaled is empty or has no columns. Skipping DBSCAN clustering.\n",
            "DBSCAN produced only one cluster or dbscan_labels is not defined or df_scaled is not suitable for silhouette score, silhouette score not applicable.\n",
            "Warning: dbscan_labels is not defined or df_scaled is empty or has less than 2 columns. Skipping DBSCAN cluster visualization.\n"
          ]
        }
      ]
    },
    {
      "cell_type": "markdown",
      "source": [
        "## 4. Cluster Analysis and Visualization\n",
        "\n",
        "### a. Plot cluster results for all algorithms."
      ],
      "metadata": {
        "id": "4N-kXrRdby0Q"
      }
    },
    {
      "cell_type": "code",
      "source": [
        "# Visualizing Cluster Separation\n",
        "\n",
        "# K-Means Cluster Visualization\n",
        "plt.figure(figsize=(6, 5))\n",
        "# Convert df_scaled to a NumPy array if it's not already\n",
        "# Check if df_scaled is not None before proceeding\n",
        "if df_scaled is not None:\n",
        "    if isinstance(df_scaled, pd.DataFrame) or isinstance(df_scaled, pd.Series):\n",
        "        df_scaled_array = df_scaled.to_numpy()\n",
        "    else:\n",
        "        df_scaled_array = df_scaled\n",
        "\n",
        "    if df_scaled_array.shape[1] >= 2:  # Check if there are at least 2 columns to plot\n",
        "        sns.scatterplot(x=df_scaled_array[:, 0], y=df_scaled_array[:, 1], hue=kmeans_labels, palette=\"coolwarm\", s=50)\n",
        "        plt.title(\"K-Means Clustering Results\")\n",
        "        plt.xlabel(\"Feature 1\")\n",
        "        plt.ylabel(\"Feature 2\")\n",
        "        plt.show()\n",
        "    else:\n",
        "        print(\"Warning: df_scaled does not have at least 2 columns. Cannot create scatter plot.\")\n",
        "else:\n",
        "    print(\"Warning: df_scaled is None. Cannot proceed with visualization.\")\n",
        "# ... (rest of the visualization code for Hierarchical and DBSCAN)"
      ],
      "metadata": {
        "colab": {
          "base_uri": "https://localhost:8080/",
          "height": 54
        },
        "id": "URbdKcmvXBgm",
        "outputId": "a65e6bf7-7447-499d-cc18-38e743760cfa"
      },
      "execution_count": 47,
      "outputs": [
        {
          "output_type": "stream",
          "name": "stdout",
          "text": [
            "Warning: df_scaled is None. Cannot proceed with visualization.\n"
          ]
        },
        {
          "output_type": "display_data",
          "data": {
            "text/plain": [
              "<Figure size 600x500 with 0 Axes>"
            ]
          },
          "metadata": {}
        }
      ]
    },
    {
      "cell_type": "markdown",
      "source": [
        "## 5. Evaluation and Performance Metrics\n",
        "\n",
        "a. Evaluate using Silhouette Score for K-Means and DBSCAN."
      ],
      "metadata": {
        "id": "xlCK0JGBcSbh"
      }
    },
    {
      "cell_type": "code",
      "source": [
        "# Final Cluster Insights\n",
        "\n",
        "print(\"\\nInsights Based on Cluster Analysis:\")\n",
        "\n",
        "# Check if 'KMeans_Cluster' column exists in df\n",
        "if 'KMeans_Cluster' in df.columns:\n",
        "    for cluster in df[\"KMeans_Cluster\"].unique():\n",
        "        print(f\"\\nCluster {cluster} (K-Means) shows:\")\n",
        "        print(df[df[\"KMeans_Cluster\"] == cluster].mean().sort_values(ascending=False).head(3))\n",
        "else:\n",
        "    print(\"KMeans_Cluster column not found in DataFrame. K-Means clustering might have been skipped.\")"
      ],
      "metadata": {
        "colab": {
          "base_uri": "https://localhost:8080/"
        },
        "id": "VLOPc3ixXge7",
        "outputId": "fc0c0267-b553-46d9-b9b8-728aff8e5219"
      },
      "execution_count": 48,
      "outputs": [
        {
          "output_type": "stream",
          "name": "stdout",
          "text": [
            "\n",
            "Insights Based on Cluster Analysis:\n",
            "KMeans_Cluster column not found in DataFrame. K-Means clustering might have been skipped.\n"
          ]
        }
      ]
    },
    {
      "cell_type": "markdown",
      "source": [
        "# Cluster Insights and Analysis\n",
        "\n",
        "## K-Means provides clear and well-defined clusters, but may be sensitive to outliers.\n",
        "\n",
        "## Hierarchical clustering visually explains possible cluster hierarchies.\n",
        "\n",
        "## DBSCAN is useful for identifying noise and clusters with varying density but may generate only one cluster.\n"
      ],
      "metadata": {
        "id": "7Cm19KWmcuuw"
      }
    }
  ]
}